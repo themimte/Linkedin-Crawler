{
 "cells": [
  {
   "cell_type": "markdown",
   "id": "dynamic-pride",
   "metadata": {},
   "source": [
    "# LinkedIn Profile Crawler Profile\n",
    "In this python note book, a linkedin profile scrapper is implemented to fetch the data from linkedin profile and store it in a SQlite server.\n",
    "\n",
    "### Contact: mohammadrezataremi77@gmail.com"
   ]
  },
  {
   "cell_type": "markdown",
   "id": "recreational-organization",
   "metadata": {},
   "source": [
    "### Importing Usefull Libraries"
   ]
  },
  {
   "cell_type": "code",
   "execution_count": 274,
   "id": "essential-ticket",
   "metadata": {},
   "outputs": [],
   "source": [
    "# import web driver\n",
    "from selenium import webdriver\n",
    "from webdriver_manager.chrome import ChromeDriverManager\n",
    "import time\n",
    "import requests\n",
    "from bs4 import BeautifulSoup\n",
    "from parsel import Selector\n",
    "import sqlite3\n",
    "import numpy as np"
   ]
  },
  {
   "cell_type": "markdown",
   "id": "adjustable-western",
   "metadata": {},
   "source": [
    "### Connecting to Linkedin Profile"
   ]
  },
  {
   "cell_type": "code",
   "execution_count": 264,
   "id": "backed-country",
   "metadata": {},
   "outputs": [
    {
     "name": "stderr",
     "output_type": "stream",
     "text": [
      "\n",
      "\n",
      "====== WebDriver manager ======\n",
      "Current google-chrome version is 98.0.4758\n",
      "Get LATEST chromedriver version for 98.0.4758 google-chrome\n",
      "Driver [C:\\Users\\mimte\\.wdm\\drivers\\chromedriver\\win32\\98.0.4758.80\\chromedriver.exe] found in cache\n",
      "<ipython-input-264-00054a448835>:2: DeprecationWarning: executable_path has been deprecated, please pass in a Service object\n",
      "  driver = webdriver.Chrome(ChromeDriverManager().install())\n",
      "<ipython-input-264-00054a448835>:11: DeprecationWarning: find_element_by_* commands are deprecated. Please use find_element() instead\n",
      "  username = driver.find_element_by_id('username')\n",
      "<ipython-input-264-00054a448835>:15: DeprecationWarning: find_element_by_* commands are deprecated. Please use find_element() instead\n",
      "  password = driver.find_element_by_id('password')\n",
      "<ipython-input-264-00054a448835>:19: DeprecationWarning: find_element_by_* commands are deprecated. Please use find_element() instead\n",
      "  log_in_button = driver.find_element_by_xpath('//*[@type=\"submit\"]')\n"
     ]
    }
   ],
   "source": [
    "# specifies the path to the chromedriver.exe\n",
    "driver = webdriver.Chrome(ChromeDriverManager().install())\n",
    "\n",
    "# driver.get method() will navigate to a page given by the URL address\n",
    "driver.get('https://www.linkedin.com/login?trk=homepage-basic_ispen-login-button')\n",
    "\n",
    "# waiting for the page to load\n",
    "time.sleep(2)\n",
    "\n",
    "#sending email address through code\n",
    "username = driver.find_element_by_id('username')\n",
    "username.send_keys('mohammadrezataremi77@gmail.com')\n",
    "\n",
    "#sending password through code\n",
    "password = driver.find_element_by_id('password')\n",
    "password.send_keys('96101902mimI')\n",
    "\n",
    "#locating the submit button\n",
    "log_in_button = driver.find_element_by_xpath('//*[@type=\"submit\"]')\n",
    "# .click() to mimic button click\n",
    "log_in_button.click()"
   ]
  },
  {
   "cell_type": "markdown",
   "id": "equivalent-victoria",
   "metadata": {},
   "source": [
    " <img src='connection.png'>"
   ]
  },
  {
   "cell_type": "markdown",
   "id": "bigger-grace",
   "metadata": {},
   "source": [
    "### Finding Connection Profiles"
   ]
  },
  {
   "cell_type": "code",
   "execution_count": 265,
   "id": "reliable-plant",
   "metadata": {},
   "outputs": [],
   "source": [
    "#Finding connections \n",
    "driver.get('https://www.linkedin.com/mynetwork/invite-connect/connections/')"
   ]
  },
  {
   "cell_type": "markdown",
   "id": "addressed-sheriff",
   "metadata": {},
   "source": [
    "<img src='contacts.png'>"
   ]
  },
  {
   "cell_type": "markdown",
   "id": "known-watch",
   "metadata": {},
   "source": [
    "### Finding URL of Connections"
   ]
  },
  {
   "cell_type": "code",
   "execution_count": 266,
   "id": "downtown-devices",
   "metadata": {},
   "outputs": [],
   "source": [
    "urls = []\n",
    "for li in soup.find_all('li', class_='mn-connection-card artdeco-list'):\n",
    "    a = li.find('a')\n",
    "    urls.append(a['href'])\n",
    "urls = ['https://www.linkedin.com' + s for s in urls]"
   ]
  },
  {
   "cell_type": "code",
   "execution_count": 267,
   "id": "green-cheese",
   "metadata": {},
   "outputs": [
    {
     "data": {
      "text/plain": [
       "364"
      ]
     },
     "execution_count": 267,
     "metadata": {},
     "output_type": "execute_result"
    }
   ],
   "source": [
    "len(urls)"
   ]
  },
  {
   "cell_type": "code",
   "execution_count": 268,
   "id": "saving-rescue",
   "metadata": {},
   "outputs": [
    {
     "data": {
      "text/plain": [
       "'https://www.linkedin.com/in/malekpour-mreza/'"
      ]
     },
     "execution_count": 268,
     "metadata": {},
     "output_type": "execute_result"
    }
   ],
   "source": [
    "urls[0]"
   ]
  },
  {
   "cell_type": "markdown",
   "id": "theoretical-recording",
   "metadata": {},
   "source": [
    "### Storing Names and Job Titles to SQlite Database"
   ]
  },
  {
   "cell_type": "code",
   "execution_count": 300,
   "id": "administrative-tobago",
   "metadata": {},
   "outputs": [
    {
     "name": "stdout",
     "output_type": "stream",
     "text": [
      "Successfully Connected to SQLite Database\n",
      "Mohammad-Reza Malekpour\n",
      "M.D. & Head of Big Data Analytics at Non-Communicable Diseases Research Center (NCDRC)\n",
      "Sasan Barak\n",
      "Assistant Professor at University of Southampton\n",
      "Behnam Aminazad\n",
      "Angular - Laravel Developer\n",
      "Mohammad Taher Hoseinie Farahani\n",
      "Attended Sharif University\n",
      "Hamid rastgar\n",
      "Project Manager at 3S CO - Medical device - Mechanical engineering\n",
      "Amirmahdi Zarif\n",
      "Manager of Shahsavan Motors\n",
      "Behrad Ahmadpour\n",
      "Research Assistant at Sharif University of Technology\n",
      "Zeinab Jafari\n",
      "Front-end Developer/UI UX\n",
      "Mohammad Hosein Ghasemi\n",
      "Talent Acquisition Lead at Sotoon\n",
      "Amir Hosein Habibi\n",
      "M.Sc. at Sharif University of Technology\n",
      "Masoud Atapour\n",
      "Associate Professor at Isfahan University of Technology\n",
      "Nima Mokhtari\n",
      "Looking for PhD position in chemical engineering, environmental fields\n",
      "abolfazl fallah pakdaman\n",
      "Master student at Digital Systems Department Sharif University of Technology\n",
      "Ali Mirzaei\n",
      "Project Lead Developer at Entotia\n",
      "Gilda DM\n",
      "Science Enthusiast / High School Student\n",
      "Kiana Keihani\n",
      "Team Member at TEDxGilSquare\n",
      "Ali Ghandi✔️\n",
      "Data Scientist(chapter lead) at Balad\n",
      "Hossein Pourshamsaei\n",
      "PhD candidate at Sharif University of Technology\n",
      "Mehdi Kharrazi\n",
      "Associate Professor at Sharif University of Technology\n",
      "Mohammadreza Azimi\n",
      "B.Sc. Student in Electrical Engineering at Sharif University of technology\n",
      "\n",
      ", Researcher at SERL\n",
      "Mohammadreza Tavasoli\n",
      "Machine Learning and Signal Processing Engineer\n",
      "Somayeh Ghazalbash\n",
      "Sessional Instructor at DeGroote School of Business - McMaster University\n",
      "Mohammad Taha Askari\n",
      "Research Assistant at The University of British Columbia\n",
      "Sajjad Karimi\n",
      "Senior Quantitative Analyst\n",
      "Zahra Sohrabi\n",
      "Student at Sharif University of Technology\n",
      "Mobin Habibpour\n",
      "Graduate Student at Sharif Uni. of Tech. | Mechatronics Engineering\n",
      "Mohammad Ali Shahiri\n",
      "ESR: Early-stage researcher OBERON Project\n",
      "Hassan zare\n",
      "Programmer\n",
      "Yazdan Seyed babaei\n",
      "🏛Student at IUST🏛\n",
      "Ghazale Biarson\n",
      "Graduate Research Assistant at Smith School of Business\n",
      "Elaheh Aghamirbaha\n",
      "Aerospace engineer\n",
      "Amin Rezaeizadeh\n",
      "Faculty at Sharif University and founder of NOVE\n",
      "fereshteh forghani\n",
      "Summer Intern at EPFL (École polytechnique fédérale de Lausanne)\n",
      "Soroush Vahidi\n",
      "Student at New Jersey Institute of Technology\n",
      "Hanieh (هانی حقی) Haghighian\n",
      "Immigration Assistant at Vizard Immigration\n",
      "Alireza Rafiee Sardoee\n",
      "Student at Sharif University of Technology\n",
      "Hadi Zare\n",
      "Business Development Specialist at DigiExpress\n",
      "Mohammadreza F. Imani\n",
      "Assistant Professor at Arizona State University\n",
      "Nika Karimi Jashni\n",
      "Undergraduate Student at the Sharif University of Technology\n",
      "Mohammad Hosein zadeh\n",
      "Active in the financial markets and stock exchanges of Iran\n",
      "sina zeraatkar\n",
      "Student at Electrical Engineering Department, Sharif University of Technology\n",
      "Mobina Noori\n",
      "Computer Engineering Student\n",
      "Mehran Montazer\n",
      "Student at Sharif University of Technology\n",
      "Sina Khazaee Nejad\n",
      "Research Assistant at Sharif University of Technology\n",
      "Vahid Zehtab\n",
      "Undergraduate ML Researcher at Sharif University of Technology\n",
      "Siavash Bayat-Sarmadi\n",
      "Associate Professor at Sharif University of Technology\n",
      "Samira A. Rahimi, Eng, PhD\n",
      "Assistant Professor at McGill University & Mila (Quebec AI Institute), FRQS J1 research scholar in Human-centered AI in Primary Healthcare\n",
      "mobina rezaei\n",
      "teh\n",
      "Alireza Ahmadi\n",
      "System Level Design Team Leader at SINA Communication Systems Co.\n",
      "Abdolhussein Ghayyumi\n",
      "Business manager student / Vanille trader\n",
      "Amirali Bigleri\n",
      "Undergraduate Student at the University of Alberta | Founder of CABIAR | Host of Zone Z Podcast | ASA First Year Representative\n",
      "Milad Rostami\n",
      "Research assistant at Carleton University\n",
      "Aref shahbakhsh\n",
      "Sharif University of Technology\n",
      "Milad Forouzesh           🔹      میلاد فروزش\n",
      "Research Assistant at Sharif University of Technology| Materials Science, Metallurgy, Metal Forming & Forging\n",
      "Babak Khalaj\n",
      "Next Generation and Software-Defined Mobile Networks\n",
      "Amirhossein Aghaei\n",
      "Electrical Eng. at Sharif University of Technology\n",
      "Mohammad Zangooei\n",
      "CS PhD Student at UWaterloo\n",
      "Seyed Morteza Ayatollahi\n",
      "technical manager, Embedded software engineer IOT and UI/UX designer\n",
      "Pegah Mohseni\n",
      "Electrical Engineer\n",
      "Arezoo Ghamsari\n",
      "H®️ EXPERT in Zar Industrial Group\n",
      "Mohammad Navid Saeidi\n",
      "M.Sc. Graduate of Iran University of science and Technology, Power Electronics.\n",
      "Ali Shafigh\n",
      "Electrical Engineering Student at Amirkabir University\n",
      "Sam Sattarzadeh\n",
      "Student at University of Toronto\n",
      "Fatemeh Esmaeili\n",
      "PhD Student at University of Toronto\n",
      "Dara Boushehri\n",
      "-Professional Commercial Banker -Trade Finance -Business Relationship Management -Credit Underwriting -Team Management -Collections & NPL Management -Revenue Generation -Cross-Sell\n",
      "paya fan\n",
      "Training and perform of electric simulation project with MaxWell\n",
      "Nava Zarkhah\n",
      "Graduate Student\n",
      "Amirhosein Chitsaz\n",
      "Electrical Engineering student at Tabriz university\n",
      "Mir-Omid Haji-Mirsadeghi\n",
      "Assistant Professor at Sharif University of Technology\n",
      "Sabrina Mokhtari\n",
      "Research Assistant at Sharif University of Technology\n",
      "Nastaran Darabi\n",
      "Ph.D. student and Graduate Teaching/Research Assistant\n",
      "Mehran Taherian\n",
      "Master student of Aerospace , Aerodynamic at AmirKabir University Of Technalogy - Tehran Polytechnic\n"
     ]
    },
    {
     "ename": "AttributeError",
     "evalue": "'NoneType' object has no attribute 'get_text'",
     "output_type": "error",
     "traceback": [
      "\u001b[1;31m---------------------------------------------------------------------------\u001b[0m",
      "\u001b[1;31mAttributeError\u001b[0m                            Traceback (most recent call last)",
      "\u001b[1;32m<ipython-input-300-ba738c021774>\u001b[0m in \u001b[0;36m<module>\u001b[1;34m\u001b[0m\n\u001b[0;32m     19\u001b[0m     \u001b[0mtime\u001b[0m\u001b[1;33m.\u001b[0m\u001b[0msleep\u001b[0m\u001b[1;33m(\u001b[0m\u001b[1;36m1\u001b[0m\u001b[1;33m)\u001b[0m\u001b[1;33m\u001b[0m\u001b[1;33m\u001b[0m\u001b[0m\n\u001b[0;32m     20\u001b[0m     \u001b[0mname\u001b[0m\u001b[1;33m=\u001b[0m \u001b[0msoup2\u001b[0m\u001b[1;33m.\u001b[0m\u001b[0mfind\u001b[0m\u001b[1;33m(\u001b[0m\u001b[1;34m\"h1\"\u001b[0m\u001b[1;33m,\u001b[0m \u001b[1;33m{\u001b[0m\u001b[1;34m\"class\"\u001b[0m\u001b[1;33m:\u001b[0m \u001b[1;34m\"text-heading-xlarge inline t-24 v-align-middle break-words\"\u001b[0m\u001b[1;33m}\u001b[0m\u001b[1;33m)\u001b[0m\u001b[1;33m\u001b[0m\u001b[1;33m\u001b[0m\u001b[0m\n\u001b[1;32m---> 21\u001b[1;33m     \u001b[0mname\u001b[0m \u001b[1;33m=\u001b[0m \u001b[0mname\u001b[0m\u001b[1;33m.\u001b[0m\u001b[0mget_text\u001b[0m\u001b[1;33m(\u001b[0m\u001b[1;33m)\u001b[0m\u001b[1;33m.\u001b[0m\u001b[0mstrip\u001b[0m\u001b[1;33m(\u001b[0m\u001b[1;33m)\u001b[0m\u001b[1;33m\u001b[0m\u001b[1;33m\u001b[0m\u001b[0m\n\u001b[0m\u001b[0;32m     22\u001b[0m     \u001b[0mprint\u001b[0m\u001b[1;33m(\u001b[0m\u001b[0mname\u001b[0m\u001b[1;33m)\u001b[0m\u001b[1;33m\u001b[0m\u001b[1;33m\u001b[0m\u001b[0m\n\u001b[0;32m     23\u001b[0m \u001b[1;33m\u001b[0m\u001b[0m\n",
      "\u001b[1;31mAttributeError\u001b[0m: 'NoneType' object has no attribute 'get_text'"
     ]
    }
   ],
   "source": [
    "sel = Selector(text=driver.page_source) \n",
    "\n",
    "sqliteConnection = sqlite3.connect('LinkedIn_Profiles.db')\n",
    "cursor = sqliteConnection.cursor()\n",
    "\n",
    "print(\"Successfully Connected to SQLite Database\")\n",
    "\n",
    "table_query = \"\"\" CREATE TABLE IF NOT EXISTS Profiles (\n",
    "                Name char NOT NULL,\n",
    "                Job char NOT NULL\n",
    "                ); \"\"\"\n",
    "cursor.execute(table_query)\n",
    "\n",
    "for url in urls:\n",
    "    \n",
    "    driver.get(url)\n",
    "    soup2 = BeautifulSoup(driver.page_source, 'html.parser')\n",
    "    \n",
    "    time.sleep(1)\n",
    "    name= soup2.find(\"h1\", {\"class\": \"text-heading-xlarge inline t-24 v-align-middle break-words\"})\n",
    "    name = name.get_text().strip()\n",
    "    print(name)\n",
    "    \n",
    "    job_title=soup2.find(\"div\", {\"class\": \"text-body-medium break-words\"})\n",
    "    job_title=job_title.get_text().strip()\n",
    "    print(job_title)\n",
    "    \n",
    "    #Inserting the names and job titles of people\n",
    "    cursor.execute(\"INSERT INTO Profiles (Name,Job) VALUES  (?,?) \", (name,job_title))"
   ]
  },
  {
   "cell_type": "markdown",
   "id": "fourth-proxy",
   "metadata": {},
   "source": [
    "### Printing Database"
   ]
  },
  {
   "cell_type": "code",
   "execution_count": 301,
   "id": "photographic-hepatitis",
   "metadata": {},
   "outputs": [
    {
     "name": "stdout",
     "output_type": "stream",
     "text": [
      "('Mohammad-Reza Malekpour', 'M.D. & Head of Big Data Analytics at Non-Communicable Diseases Research Center (NCDRC)')\n",
      "('Sasan Barak', 'Assistant Professor at University of Southampton')\n",
      "('Behnam Aminazad', 'Angular - Laravel Developer')\n",
      "('Mohammad Taher Hoseinie Farahani', 'Attended Sharif University')\n",
      "('Hamid rastgar', 'Project Manager at 3S CO - Medical device - Mechanical engineering')\n",
      "('Amirmahdi Zarif', 'Manager of Shahsavan Motors')\n",
      "('Behrad Ahmadpour', 'Research Assistant at Sharif University of Technology')\n",
      "('Zeinab Jafari', 'Front-end Developer/UI UX')\n",
      "('Mohammad Hosein Ghasemi', 'Talent Acquisition Lead at Sotoon')\n",
      "('Amir Hosein Habibi', 'M.Sc. at Sharif University of Technology')\n",
      "('Masoud Atapour', 'Associate Professor at Isfahan University of Technology')\n",
      "('Nima Mokhtari', 'Looking for PhD position in chemical engineering, environmental fields')\n",
      "('abolfazl fallah pakdaman', 'Master student at Digital Systems Department Sharif University of Technology')\n",
      "('Ali Mirzaei', 'Project Lead Developer at Entotia')\n",
      "('Gilda DM', 'Science Enthusiast / High School Student')\n",
      "('Kiana Keihani', 'Team Member at TEDxGilSquare')\n",
      "('Ali Ghandi✔️', 'Data Scientist(chapter lead) at Balad')\n",
      "('Hossein Pourshamsaei', 'PhD candidate at Sharif University of Technology')\n",
      "('Mehdi Kharrazi', 'Associate Professor at Sharif University of Technology')\n",
      "('Mohammadreza Azimi', 'B.Sc. Student in Electrical Engineering at Sharif University of technology\\n\\n, Researcher at SERL')\n",
      "('Mohammadreza Tavasoli', 'Machine Learning and Signal Processing Engineer')\n",
      "('Somayeh Ghazalbash', 'Sessional Instructor at DeGroote School of Business - McMaster University')\n",
      "('Mohammad Taha Askari', 'Research Assistant at The University of British Columbia')\n",
      "('Sajjad Karimi', 'Senior Quantitative Analyst')\n",
      "('Zahra Sohrabi', 'Student at Sharif University of Technology')\n",
      "('Mobin Habibpour', 'Graduate Student at Sharif Uni. of Tech. | Mechatronics Engineering')\n",
      "('Mohammad Ali Shahiri', 'ESR: Early-stage researcher OBERON Project')\n",
      "('Hassan zare', 'Programmer')\n",
      "('Yazdan Seyed babaei', '🏛Student at IUST🏛')\n",
      "('Ghazale Biarson', 'Graduate Research Assistant at Smith School of Business')\n",
      "('Elaheh Aghamirbaha', 'Aerospace engineer')\n",
      "('Amin Rezaeizadeh', 'Faculty at Sharif University and founder of NOVE')\n",
      "('fereshteh forghani', 'Summer Intern at EPFL (École polytechnique fédérale de Lausanne)')\n",
      "('Soroush Vahidi', 'Student at New Jersey Institute of Technology')\n",
      "('Hanieh (هانی حقی) Haghighian', 'Immigration Assistant at Vizard Immigration')\n",
      "('Alireza Rafiee Sardoee', 'Student at Sharif University of Technology')\n",
      "('Hadi Zare', 'Business Development Specialist at DigiExpress')\n",
      "('Mohammadreza F. Imani', 'Assistant Professor at Arizona State University')\n",
      "('Nika Karimi Jashni', 'Undergraduate Student at the Sharif University of Technology')\n",
      "('Mohammad Hosein zadeh', 'Active in the financial markets and stock exchanges of Iran')\n",
      "('sina zeraatkar', 'Student at Electrical Engineering Department, Sharif University of Technology')\n",
      "('Mobina Noori', 'Computer Engineering Student')\n",
      "('Mehran Montazer', 'Student at Sharif University of Technology')\n",
      "('Sina Khazaee Nejad', 'Research Assistant at Sharif University of Technology')\n",
      "('Vahid Zehtab', 'Undergraduate ML Researcher at Sharif University of Technology')\n",
      "('Siavash Bayat-Sarmadi', 'Associate Professor at Sharif University of Technology')\n",
      "('Samira A. Rahimi, Eng, PhD', 'Assistant Professor at McGill University & Mila (Quebec AI Institute), FRQS J1 research scholar in Human-centered AI in Primary Healthcare')\n",
      "('mobina rezaei', 'teh')\n",
      "('Alireza Ahmadi', 'System Level Design Team Leader at SINA Communication Systems Co.')\n",
      "('Abdolhussein Ghayyumi', 'Business manager student / Vanille trader')\n",
      "('Amirali Bigleri', 'Undergraduate Student at the University of Alberta | Founder of CABIAR | Host of Zone Z Podcast | ASA First Year Representative')\n",
      "('Milad Rostami', 'Research assistant at Carleton University')\n",
      "('Aref shahbakhsh', 'Sharif University of Technology')\n",
      "('Milad Forouzesh           🔹      میلاد فروزش', 'Research Assistant at Sharif University of Technology| Materials Science, Metallurgy, Metal Forming & Forging')\n",
      "('Babak Khalaj', 'Next Generation and Software-Defined Mobile Networks')\n",
      "('Amirhossein Aghaei', 'Electrical Eng. at Sharif University of Technology')\n",
      "('Mohammad Zangooei', 'CS PhD Student at UWaterloo')\n",
      "('Seyed Morteza Ayatollahi', 'technical manager, Embedded software engineer IOT and UI/UX designer')\n",
      "('Pegah Mohseni', 'Electrical Engineer')\n",
      "('Arezoo Ghamsari', 'H®️ EXPERT in Zar Industrial Group')\n",
      "('Mohammad Navid Saeidi', 'M.Sc. Graduate of Iran University of science and Technology, Power Electronics.')\n",
      "('Ali Shafigh', 'Electrical Engineering Student at Amirkabir University')\n",
      "('Sam Sattarzadeh', 'Student at University of Toronto')\n",
      "('Fatemeh Esmaeili', 'PhD Student at University of Toronto')\n",
      "('Dara Boushehri', '-Professional Commercial Banker -Trade Finance -Business Relationship Management -Credit Underwriting -Team Management -Collections & NPL Management -Revenue Generation -Cross-Sell')\n",
      "('paya fan', 'Training and perform of electric simulation project with MaxWell')\n",
      "('Nava Zarkhah', 'Graduate Student')\n",
      "('Amirhosein Chitsaz', 'Electrical Engineering student at Tabriz university')\n",
      "('Mir-Omid Haji-Mirsadeghi', 'Assistant Professor at Sharif University of Technology')\n",
      "('Sabrina Mokhtari', 'Research Assistant at Sharif University of Technology')\n",
      "('Nastaran Darabi', 'Ph.D. student and Graduate Teaching/Research Assistant')\n",
      "('Mehran Taherian', 'Master student of Aerospace , Aerodynamic at AmirKabir University Of Technalogy - Tehran Polytechnic')\n",
      "('Mohammadreza Taremi', 'Electrical Engineer Student at Sharif University of Technology')\n"
     ]
    }
   ],
   "source": [
    "#Inserting MyOwn Profile\n",
    "cursor.execute(\"INSERT INTO Profiles (Name,Job) VALUES  (?,?) \", ('Mohammadreza Taremi','Electrical Engineer Student at Sharif University of Technology'))\n",
    "for row in cursor.execute('SELECT * FROM Profiles'):\n",
    "    print(row)\n",
    "sqliteConnection.close()"
   ]
  },
  {
   "cell_type": "code",
   "execution_count": null,
   "id": "heated-disclosure",
   "metadata": {},
   "outputs": [],
   "source": []
  }
 ],
 "metadata": {
  "kernelspec": {
   "display_name": "Python 3",
   "language": "python",
   "name": "python3"
  },
  "language_info": {
   "codemirror_mode": {
    "name": "ipython",
    "version": 3
   },
   "file_extension": ".py",
   "mimetype": "text/x-python",
   "name": "python",
   "nbconvert_exporter": "python",
   "pygments_lexer": "ipython3",
   "version": "3.8.5"
  }
 },
 "nbformat": 4,
 "nbformat_minor": 5
}
